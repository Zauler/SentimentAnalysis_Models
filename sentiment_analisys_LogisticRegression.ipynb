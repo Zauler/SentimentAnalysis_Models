{
 "cells": [
  {
   "cell_type": "markdown",
   "metadata": {},
   "source": [
    "#   SENTIMENT ANALYSIS USING LOGISTIC REGRESSION WITH DATA CLEANING AND IMPROVEMENT OF THE FINAL MODEL\n",
    "## Data processing "
   ]
  },
  {
   "cell_type": "code",
   "execution_count": 3,
   "metadata": {},
   "outputs": [],
   "source": [
    "import pandas as pd\n",
    "import numpy as np\n",
    "\n",
    "import matplotlib.pyplot as plt\n",
    "import seaborn as sns; sns.set()\n",
    "%config InlineBackend.figure_format = 'retina'\n",
    "%matplotlib inline\n",
    "\n",
    "# Oculta warnings\n",
    "import warnings\n",
    "warnings.simplefilter('ignore')"
   ]
  },
  {
   "cell_type": "code",
   "execution_count": 4,
   "metadata": {},
   "outputs": [
    {
     "data": {
      "text/html": [
       "<div>\n",
       "<style scoped>\n",
       "    .dataframe tbody tr th:only-of-type {\n",
       "        vertical-align: middle;\n",
       "    }\n",
       "\n",
       "    .dataframe tbody tr th {\n",
       "        vertical-align: top;\n",
       "    }\n",
       "\n",
       "    .dataframe thead th {\n",
       "        text-align: right;\n",
       "    }\n",
       "</style>\n",
       "<table border=\"1\" class=\"dataframe\">\n",
       "  <thead>\n",
       "    <tr style=\"text-align: right;\">\n",
       "      <th></th>\n",
       "      <th>review</th>\n",
       "      <th>sentiment</th>\n",
       "    </tr>\n",
       "  </thead>\n",
       "  <tbody>\n",
       "    <tr>\n",
       "      <th>0</th>\n",
       "      <td>Went to watch this movie expecting a 'nothing ...</td>\n",
       "      <td>0</td>\n",
       "    </tr>\n",
       "    <tr>\n",
       "      <th>1</th>\n",
       "      <td>This movie is wonderful. What separates it fro...</td>\n",
       "      <td>1</td>\n",
       "    </tr>\n",
       "    <tr>\n",
       "      <th>2</th>\n",
       "      <td>I guess I've seen worse films, but that may be...</td>\n",
       "      <td>0</td>\n",
       "    </tr>\n",
       "    <tr>\n",
       "      <th>3</th>\n",
       "      <td>If you like CB4, you have no idea what you're ...</td>\n",
       "      <td>1</td>\n",
       "    </tr>\n",
       "    <tr>\n",
       "      <th>4</th>\n",
       "      <td>Expecting to see a \"cute little film\" from mai...</td>\n",
       "      <td>1</td>\n",
       "    </tr>\n",
       "    <tr>\n",
       "      <th>...</th>\n",
       "      <td>...</td>\n",
       "      <td>...</td>\n",
       "    </tr>\n",
       "    <tr>\n",
       "      <th>4995</th>\n",
       "      <td>This is a good film for 99% of the duration. I...</td>\n",
       "      <td>1</td>\n",
       "    </tr>\n",
       "    <tr>\n",
       "      <th>4996</th>\n",
       "      <td>(aka: BLOOD CASTLE or SCREAM OF THE DEMON)&lt;br ...</td>\n",
       "      <td>0</td>\n",
       "    </tr>\n",
       "    <tr>\n",
       "      <th>4997</th>\n",
       "      <td>While essentially a remake of the original Chi...</td>\n",
       "      <td>1</td>\n",
       "    </tr>\n",
       "    <tr>\n",
       "      <th>4998</th>\n",
       "      <td>From the start I knew I would be in for the be...</td>\n",
       "      <td>1</td>\n",
       "    </tr>\n",
       "    <tr>\n",
       "      <th>4999</th>\n",
       "      <td>Highly recommended!!&lt;br /&gt;&lt;br /&gt;A well written...</td>\n",
       "      <td>1</td>\n",
       "    </tr>\n",
       "  </tbody>\n",
       "</table>\n",
       "<p>5000 rows × 2 columns</p>\n",
       "</div>"
      ],
      "text/plain": [
       "                                                 review  sentiment\n",
       "0     Went to watch this movie expecting a 'nothing ...          0\n",
       "1     This movie is wonderful. What separates it fro...          1\n",
       "2     I guess I've seen worse films, but that may be...          0\n",
       "3     If you like CB4, you have no idea what you're ...          1\n",
       "4     Expecting to see a \"cute little film\" from mai...          1\n",
       "...                                                 ...        ...\n",
       "4995  This is a good film for 99% of the duration. I...          1\n",
       "4996  (aka: BLOOD CASTLE or SCREAM OF THE DEMON)<br ...          0\n",
       "4997  While essentially a remake of the original Chi...          1\n",
       "4998  From the start I knew I would be in for the be...          1\n",
       "4999  Highly recommended!!<br /><br />A well written...          1\n",
       "\n",
       "[5000 rows x 2 columns]"
      ]
     },
     "execution_count": 4,
     "metadata": {},
     "output_type": "execute_result"
    }
   ],
   "source": [
    "num_docs = 5000 #max 25000 \n",
    "\n",
    "np.random.seed(0) \n",
    "\n",
    "#Read the data\n",
    "df_reviews = pd.read_csv(\"data/film_data_train.csv\")\n",
    "\n",
    "#Disorder the elements because they are sorted by class\n",
    "df_reviews = df_reviews.sample(frac=1).reset_index(drop=True)\n",
    "\n",
    "#Extract the subset we are going to work with\n",
    "df_reviews = df_reviews.iloc[:num_docs, :]\n",
    "df_reviews"
   ]
  },
  {
   "cell_type": "code",
   "execution_count": 5,
   "metadata": {},
   "outputs": [],
   "source": [
    "#Datos de test\n",
    "df_new_reviews = pd.read_csv(\"data/film_data_test.csv\")\n",
    "\n",
    "#desordenar los datos\n",
    "df_new_reviews = df_new_reviews.sample(frac=1).reset_index(drop=True)\n",
    "\n",
    "# take the set we work with\n",
    "df_new_reviews = df_new_reviews.iloc[:num_docs,:]"
   ]
  },
  {
   "cell_type": "code",
   "execution_count": 6,
   "metadata": {},
   "outputs": [
    {
     "data": {
      "text/html": [
       "<div>\n",
       "<style scoped>\n",
       "    .dataframe tbody tr th:only-of-type {\n",
       "        vertical-align: middle;\n",
       "    }\n",
       "\n",
       "    .dataframe tbody tr th {\n",
       "        vertical-align: top;\n",
       "    }\n",
       "\n",
       "    .dataframe thead th {\n",
       "        text-align: right;\n",
       "    }\n",
       "</style>\n",
       "<table border=\"1\" class=\"dataframe\">\n",
       "  <thead>\n",
       "    <tr style=\"text-align: right;\">\n",
       "      <th></th>\n",
       "      <th>review</th>\n",
       "      <th>sentiment</th>\n",
       "    </tr>\n",
       "  </thead>\n",
       "  <tbody>\n",
       "    <tr>\n",
       "      <th>0</th>\n",
       "      <td>Went to watch this movie expecting a 'nothing ...</td>\n",
       "      <td>0</td>\n",
       "    </tr>\n",
       "    <tr>\n",
       "      <th>1</th>\n",
       "      <td>This movie is wonderful. What separates it fro...</td>\n",
       "      <td>1</td>\n",
       "    </tr>\n",
       "    <tr>\n",
       "      <th>2</th>\n",
       "      <td>I guess I've seen worse films, but that may be...</td>\n",
       "      <td>0</td>\n",
       "    </tr>\n",
       "    <tr>\n",
       "      <th>3</th>\n",
       "      <td>If you like CB4, you have no idea what you're ...</td>\n",
       "      <td>1</td>\n",
       "    </tr>\n",
       "    <tr>\n",
       "      <th>4</th>\n",
       "      <td>Expecting to see a \"cute little film\" from mai...</td>\n",
       "      <td>1</td>\n",
       "    </tr>\n",
       "  </tbody>\n",
       "</table>\n",
       "</div>"
      ],
      "text/plain": [
       "                                              review  sentiment\n",
       "0  Went to watch this movie expecting a 'nothing ...          0\n",
       "1  This movie is wonderful. What separates it fro...          1\n",
       "2  I guess I've seen worse films, but that may be...          0\n",
       "3  If you like CB4, you have no idea what you're ...          1\n",
       "4  Expecting to see a \"cute little film\" from mai...          1"
      ]
     },
     "execution_count": 6,
     "metadata": {},
     "output_type": "execute_result"
    }
   ],
   "source": [
    "df_reviews.head()"
   ]
  },
  {
   "cell_type": "code",
   "execution_count": 13,
   "metadata": {},
   "outputs": [
    {
     "name": "stdout",
     "output_type": "stream",
     "text": [
      "this is a test to see how the function works :)\n"
     ]
    }
   ],
   "source": [
    "import re\n",
    "\n",
    "def removeHTML(text):\n",
    "    #Delete HTML tags\n",
    "    text = re.sub(\"<[^>]*>\",\"\",text)\n",
    "    #returns the text\n",
    "    return text\n",
    "\n",
    "\n",
    "def clean(text):\n",
    "    # Save emoticons\n",
    "    emoticons = re.findall('(?::|;|=)(?:-?)(?:\\)|\\(|D|P)',text)\n",
    "    \n",
    "    # Removes non-alphabetic characters \n",
    "    text = re.sub('[\\W]+',\" \", text.lower())\n",
    "    text = re.sub('[\\d]+',\"\", text.lower())\n",
    "    \n",
    "    #Add the emoticons but remove '-'.\n",
    "    text = text + \" \".join(emoticons).replace('-',\"\")\n",
    "    \n",
    "    # Text back \n",
    "    return text \n",
    "\n",
    "\n",
    "text = \"this is a test to see how the function works.  :-)\"\n",
    "print(clean(text))\n"
   ]
  },
  {
   "cell_type": "code",
   "execution_count": null,
   "metadata": {},
   "outputs": [],
   "source": [
    "import nltk \n",
    "nltk.download(\"stopwords\") # Download only the first time\n",
    "\n",
    "stopwords_en = nltk.corpus.stopwords.words(\"english\")  #extract stopwords in English"
   ]
  },
  {
   "cell_type": "code",
   "execution_count": null,
   "metadata": {},
   "outputs": [],
   "source": [
    "from nltk.stem.porter import PorterStemmer #we can do stemming or lemmatisation, in this case we will do stemming.\n",
    "nltk.download('punkt') # Download only the first time\n",
    "stemmer = PorterStemmer()"
   ]
  },
  {
   "cell_type": "code",
   "execution_count": 11,
   "metadata": {},
   "outputs": [
    {
     "name": "stdout",
     "output_type": "stream",
     "text": [
      "['test', 'see', 'function', 'work', '.']\n"
     ]
    }
   ],
   "source": [
    "def extracTerms(text):\n",
    "    #Create the word list\n",
    "    word_list = [word for word in nltk.word_tokenize(text) if word not in stopwords_en ] \n",
    "    \n",
    "    #Obtains the root of the words\n",
    "    word_list = [stemmer.stem(word) for word in word_list]\n",
    "    return word_list\n",
    "\n",
    "text = \"this is a test to see how the function works.\"\n",
    "\n",
    "print(extracTerms(text))\n",
    "\n"
   ]
  },
  {
   "cell_type": "code",
   "execution_count": 14,
   "metadata": {},
   "outputs": [
    {
     "data": {
      "text/html": [
       "<div>\n",
       "<style scoped>\n",
       "    .dataframe tbody tr th:only-of-type {\n",
       "        vertical-align: middle;\n",
       "    }\n",
       "\n",
       "    .dataframe tbody tr th {\n",
       "        vertical-align: top;\n",
       "    }\n",
       "\n",
       "    .dataframe thead th {\n",
       "        text-align: right;\n",
       "    }\n",
       "</style>\n",
       "<table border=\"1\" class=\"dataframe\">\n",
       "  <thead>\n",
       "    <tr style=\"text-align: right;\">\n",
       "      <th></th>\n",
       "      <th>review</th>\n",
       "      <th>sentiment</th>\n",
       "    </tr>\n",
       "  </thead>\n",
       "  <tbody>\n",
       "    <tr>\n",
       "      <th>0</th>\n",
       "      <td>went to watch this movie expecting a nothing r...</td>\n",
       "      <td>0</td>\n",
       "    </tr>\n",
       "    <tr>\n",
       "      <th>1</th>\n",
       "      <td>this movie is wonderful what separates it from...</td>\n",
       "      <td>1</td>\n",
       "    </tr>\n",
       "    <tr>\n",
       "      <th>2</th>\n",
       "      <td>i guess i ve seen worse films but that may be ...</td>\n",
       "      <td>0</td>\n",
       "    </tr>\n",
       "    <tr>\n",
       "      <th>3</th>\n",
       "      <td>if you like cb you have no idea what you re mi...</td>\n",
       "      <td>1</td>\n",
       "    </tr>\n",
       "    <tr>\n",
       "      <th>4</th>\n",
       "      <td>expecting to see a cute little film from mainl...</td>\n",
       "      <td>1</td>\n",
       "    </tr>\n",
       "  </tbody>\n",
       "</table>\n",
       "</div>"
      ],
      "text/plain": [
       "                                              review  sentiment\n",
       "0  went to watch this movie expecting a nothing r...          0\n",
       "1  this movie is wonderful what separates it from...          1\n",
       "2  i guess i ve seen worse films but that may be ...          0\n",
       "3  if you like cb you have no idea what you re mi...          1\n",
       "4  expecting to see a cute little film from mainl...          1"
      ]
     },
     "execution_count": 14,
     "metadata": {},
     "output_type": "execute_result"
    }
   ],
   "source": [
    "# PROCESSING OF THE DATASET\n",
    "\n",
    "df_reviews[\"review\"] = df_reviews[\"review\"].apply(removeHTML)\n",
    "df_reviews[\"review\"] = df_reviews[\"review\"].apply(clean)\n",
    "df_reviews.head()"
   ]
  },
  {
   "cell_type": "code",
   "execution_count": 15,
   "metadata": {},
   "outputs": [
    {
     "name": "stdout",
     "output_type": "stream",
     "text": [
      "El tamaño del vocabulario es:  26340\n"
     ]
    }
   ],
   "source": [
    "from sklearn.feature_extraction.text import TfidfVectorizer\n",
    "# This tool provides a way to measure importance not only based on frequency, but also taking into account the uniqueness of terms in the dataset.\n",
    "\n",
    "tfidf_vect = TfidfVectorizer(tokenizer=extracTerms, ngram_range=(1,1))\n",
    "tfidf_reviews = tfidf_vect.fit_transform(df_reviews[\"review\"].values)\n",
    "\n",
    "print(\"The size of the vocabulary is: \", len(tfidf_vect.vocabulary_))\n",
    "\n",
    "#Create arrays with data (for readability)\n",
    "\n",
    "X= tfidf_reviews\n",
    "y = df_reviews[\"sentiment\"].values"
   ]
  },
  {
   "cell_type": "code",
   "execution_count": 21,
   "metadata": {},
   "outputs": [],
   "source": [
    "from sklearn.model_selection import train_test_split\n",
    "\n",
    "X_train, X_val, y_train, y_val = train_test_split(X,y, test_size=0.25)"
   ]
  },
  {
   "cell_type": "markdown",
   "metadata": {},
   "source": [
    "## MODEL"
   ]
  },
  {
   "cell_type": "code",
   "execution_count": 22,
   "metadata": {},
   "outputs": [
    {
     "name": "stdout",
     "output_type": "stream",
     "text": [
      "Successful validation:  0.9984\n",
      "Successful test:  0.8408\n"
     ]
    }
   ],
   "source": [
    "from sklearn.linear_model import LogisticRegression\n",
    "\n",
    "lr_model = LogisticRegression(C=10)\n",
    "lr_model.fit(X_train,y_train)\n",
    "\n",
    "print(\"Successful validation: \", lr_model.score(X_train,y_train))\n",
    "print(\"Successful test: \", lr_model.score(X_val,y_val))"
   ]
  },
  {
   "cell_type": "markdown",
   "metadata": {},
   "source": [
    "## Improving the model\n",
    "### Manual search "
   ]
  },
  {
   "cell_type": "code",
   "execution_count": 23,
   "metadata": {},
   "outputs": [
    {
     "name": "stdout",
     "output_type": "stream",
     "text": [
      "Value of C:  1e-05 Training:  0.5056 Validation:  0.4864\n",
      "Value of C:  0.0001 Training:  0.5056 Validation:  0.4864\n",
      "Value of C:  0.001 Training:  0.5056 Validation:  0.4864\n",
      "Value of C:  0.01 Training:  0.8165333333333333 Validation:  0.7456\n",
      "Value of C:  0.1 Training:  0.8824 Validation:  0.8216\n",
      "Value of C:  1.0 Training:  0.9549333333333333 Validation:  0.8488\n",
      "Value of C:  10.0 Training:  0.9984 Validation:  0.8408\n",
      "Value of C:  100.0 Training:  1.0 Validation:  0.8352\n",
      "Value of C:  1000.0 Training:  1.0 Validation:  0.8288\n",
      "Value of C:  10000.0 Training:  1.0 Validation:  0.8304\n",
      "Value of C:  100000.0 Training:  1.0 Validation:  0.8328\n",
      "The best result is:  1.0 with:  0.8488\n"
     ]
    }
   ],
   "source": [
    "\n",
    "c_range = np.logspace(-5,5,11)\n",
    "\n",
    "best_score = 0 # Mejor resultado\n",
    "C_b = 0 \n",
    "for C in c_range:\n",
    "    lr_model.set_params(C=C)\n",
    "    lr_model.fit(X_train,y_train)\n",
    "    train_score, val_score = lr_model.score(X_train, y_train), lr_model.score(X_val, y_val)\n",
    "    if val_score > best_score:\n",
    "        best_score = val_score\n",
    "        C_b = C\n",
    "    print(\"Value of C: \", C, \"Training: \", train_score, \"Validation: \", val_score)\n",
    "    \n",
    "print( \"The best result is: \",C_b , \"with: \", best_score)\n"
   ]
  },
  {
   "cell_type": "markdown",
   "metadata": {},
   "source": [
    "###  Grid Search"
   ]
  },
  {
   "cell_type": "code",
   "execution_count": 24,
   "metadata": {},
   "outputs": [
    {
     "name": "stdout",
     "output_type": "stream",
     "text": [
      "{'C': 10.0}\n",
      "0.8606\n"
     ]
    }
   ],
   "source": [
    "from sklearn.model_selection import GridSearchCV\n",
    "\n",
    "lf_model = GridSearchCV(LogisticRegression(),\n",
    "                        param_grid={\"C\":np.logspace(-5,5,11)},\n",
    "                        cv=5)\n",
    "\n",
    "lf_model.fit(X,y)\n",
    "\n",
    "print(lf_model.best_params_)\n",
    "print(lf_model.best_score_)"
   ]
  },
  {
   "cell_type": "markdown",
   "metadata": {},
   "source": [
    "# Model validation"
   ]
  },
  {
   "cell_type": "code",
   "execution_count": 25,
   "metadata": {},
   "outputs": [],
   "source": [
    "from sklearn.model_selection import learning_curve\n",
    "\n",
    "# sizes\n",
    "sizes = np.array([0.1,0.2,0.3,0.4,0.5,0.6,0.7,0.8,0.9,1])\n",
    "\n",
    "# obtains learning curve data\n",
    "train_sizes,train_scores,test_scores = learning_curve(lr_model,X,y,cv=5, train_sizes=sizes)\n",
    "\n",
    "#Calculate statistics \n",
    "train_scores_mean = np.mean(train_scores,axis=1)\n",
    "train_scores_std = np.std(train_scores, axis=1)\n",
    "test_scores_mean = np.mean(test_scores, axis=1)\n",
    "test_scores_std = np.std(test_scores, axis=1)"
   ]
  },
  {
   "cell_type": "code",
   "execution_count": 26,
   "metadata": {},
   "outputs": [
    {
     "data": {
      "text/plain": [
       "array([[0.788, 0.798, 0.797, 0.788, 0.778],\n",
       "       [0.818, 0.821, 0.843, 0.836, 0.816],\n",
       "       [0.826, 0.823, 0.847, 0.823, 0.827],\n",
       "       [0.846, 0.847, 0.863, 0.845, 0.845],\n",
       "       [0.85 , 0.849, 0.86 , 0.843, 0.845],\n",
       "       [0.847, 0.849, 0.868, 0.851, 0.847],\n",
       "       [0.846, 0.856, 0.875, 0.853, 0.843],\n",
       "       [0.841, 0.855, 0.873, 0.854, 0.853],\n",
       "       [0.849, 0.854, 0.866, 0.858, 0.845],\n",
       "       [0.846, 0.866, 0.871, 0.854, 0.849]])"
      ]
     },
     "execution_count": 26,
     "metadata": {},
     "output_type": "execute_result"
    }
   ],
   "source": [
    "test_scores"
   ]
  },
  {
   "cell_type": "code",
   "execution_count": 27,
   "metadata": {},
   "outputs": [
    {
     "data": {
      "image/png": "[encoded data removed]",
      "text/plain": [
       "<Figure size 640x480 with 1 Axes>"
      ]
     },
     "metadata": {
      "image/png": {
       "height": 446,
       "width": 580
      }
     },
     "output_type": "display_data"
    }
   ],
   "source": [
    "plt.xlabel(\"Size of the training set \", labelpad=10)\n",
    "plt.ylabel(\"Success\")\n",
    "plt.fill_between(train_sizes,\n",
    "                 train_scores_mean - train_scores_std,\n",
    "                 train_scores_mean + train_scores_std, alpha=0.1, color=\"b\")\n",
    "plt.fill_between(train_sizes, \n",
    "                 test_scores_mean - test_scores_std, \n",
    "                 test_scores_mean + test_scores_std, alpha=0.1, color=\"r\")\n",
    "\n",
    "plt.plot(train_sizes, train_scores_mean, 'o-', color=\"b\", label=\"Training \")\n",
    "plt.plot(train_sizes, test_scores_mean, 'o-', color=\"r\", label=\"Validation \")\n",
    "plt.legend(loc=4, fontsize=10)\n",
    "plt.show()"
   ]
  },
  {
   "cell_type": "markdown",
   "metadata": {},
   "source": [
    "## test set new comments "
   ]
  },
  {
   "cell_type": "code",
   "execution_count": 29,
   "metadata": {},
   "outputs": [
    {
     "name": "stdout",
     "output_type": "stream",
     "text": [
      "The hit rate (test) is  0.8394\n"
     ]
    }
   ],
   "source": [
    "# We clean the data\n",
    "\n",
    "df_new_reviews[\"review\"] = df_new_reviews[\"review\"].apply(removeHTML)\n",
    "df_new_reviews[\"review\"] = df_new_reviews[\"review\"].apply(clean)\n",
    "\n",
    "#Let's extract the terms  \n",
    "tfidf_test = tfidf_vect.transform(df_new_reviews[\"review\"])\n",
    "\n",
    "# we create the training and test suite \n",
    "X_test = tfidf_test\n",
    "y_test = df_new_reviews[\"sentiment\"].values\n",
    "\n",
    "#classify\n",
    "print(\"The hit rate (test) is \", lr_model.score(X_test,y_test))\n"
   ]
  },
  {
   "cell_type": "code",
   "execution_count": 31,
   "metadata": {},
   "outputs": [
    {
     "name": "stdout",
     "output_type": "stream",
     "text": [
      "Confusion matrix \n",
      "\n",
      " [[2086  398]\n",
      " [ 405 2111]] \n",
      "\n",
      "Proportion of positive comments: 0.50\n",
      "Proportion of positive comments tagged 0.50\n"
     ]
    }
   ],
   "source": [
    "from sklearn.metrics import confusion_matrix\n",
    "\n",
    "y_pred = lr_model.predict(X_test)\n",
    "\n",
    "# confusion matrix\n",
    "cm = confusion_matrix(y_test,y_pred)\n",
    "# positive and fair comments\n",
    "prop_real = np.sum(y_test)/len(y_test)\n",
    "prop_etiquetados = ( (cm[0,1]+cm[1,1]) / len(y_test) )\n",
    "\n",
    "#We analyse the data\n",
    "print(\"Confusion matrix \\n\\n\", cm, \"\\n\")\n",
    "print(\"Proportion of positive comments: %.2f\" % prop_real)\n",
    "print(\"Proportion of positive comments tagged %.2f\" % prop_etiquetados)"
   ]
  },
  {
   "cell_type": "code",
   "execution_count": 32,
   "metadata": {},
   "outputs": [
    {
     "name": "stdout",
     "output_type": "stream",
     "text": [
      "coeficientes:  [ 4.05824986 25.94572041 21.61713053 ...  0.          0.\n",
      " -2.4000917 ] \n",
      "\n",
      "ord coeficientes:  [11321 11422 15417 ...  9660  1564 25899] \n",
      "\n",
      "best  coeficientes:  [18958  7899 26057  7822  1912  7185 24477 17762 11613  5058 18876 22491\n",
      " 16335  4196 16340  6783 17683  8815 18810  2882 10588 14974 22546 19375\n",
      " 17759 20859 15191  1893 25492  5705 24395   877 12911 17234 23895  7485\n",
      "  7317 23102 13703  7986   613  2116  2624 25359 25895  7639  1466  9660\n",
      "  1564 25899] \n",
      "\n",
      "terms:  ['(' ')' ':' ... 'étc' 'ís' 'über'] \n",
      "\n",
      "['refresh' 'fantast' 'ye' 'fail' 'becom' 'embarrass' 'unless' 'poorli'\n",
      " 'instead' 'crap' 'recommend' 'superb' 'often' 'classic' 'oh' 'dull'\n",
      " 'pointless' 'fun' 'reason' 'brilliant' 'hilari' 'minut' 'suppos'\n",
      " 'ridicul' 'poor' 'short' 'money' 'beauti' 'well' 'definit' 'unfortun'\n",
      " 'annoy' 'lack' 'perfect' 'true' 'especi' 'enjoy' 'terribl' 'love'\n",
      " 'favorit' 'also' 'best' 'bore' 'wast' 'wors' 'excel' 'aw' 'great' 'bad'\n",
      " 'worst']\n"
     ]
    }
   ],
   "source": [
    "coefficients = lr_model.coef_.ravel()\n",
    "print(\"coeficientes: \",coefficients ,\"\\n\")\n",
    "\n",
    "ord_coefficients = np.argsort(np.abs(coefficients))\n",
    "print(\"ord coeficientes: \",ord_coefficients ,\"\\n\")\n",
    "\n",
    "best_coefficients = ord_coefficients[-50:]\n",
    "print(\"best  coeficientes: \",best_coefficients ,\"\\n\")\n",
    "\n",
    "terms = np.asarray(tfidf_vect.get_feature_names_out())\n",
    "print(\"terms: \",terms ,\"\\n\")\n",
    "\n",
    "relevant_tems = terms[best_coefficients]\n",
    "print(relevant_tems)"
   ]
  },
  {
   "cell_type": "markdown",
   "metadata": {},
   "source": [
    "# UNIFY EVERYTHING IN ONE PIPELINE"
   ]
  },
  {
   "cell_type": "code",
   "execution_count": 33,
   "metadata": {},
   "outputs": [],
   "source": [
    "from sklearn.base import BaseEstimator, TransformerMixin\n",
    "\n",
    "class Cleaner (BaseEstimator, TransformerMixin):\n",
    "    def fit(self, X, y=None):\n",
    "        return self\n",
    "    \n",
    "    def transform(self, X):\n",
    "        assert isinstance(X, pd.Series) #We only work with series\n",
    "        X= X.apply(clean)\n",
    "        X = X.apply(removeHTML)\n",
    "        return X"
   ]
  },
  {
   "cell_type": "code",
   "execution_count": 36,
   "metadata": {},
   "outputs": [
    {
     "name": "stdout",
     "output_type": "stream",
     "text": [
      "Training rate (training):  0.813\n",
      "Hit rate (test) 0.795\n"
     ]
    }
   ],
   "source": [
    "from sklearn.pipeline import Pipeline\n",
    "\n",
    "# We take the relevant terms from the previous modelling to make a new model based on this model.\n",
    "new_vocabulary = {}   \n",
    "for position, word in enumerate(relevant_tems):\n",
    "    new_vocabulary[word] = position\n",
    "\n",
    "#creates the new data matrix\n",
    "tfidf_vect_short = TfidfVectorizer(tokenizer=extracTerms, vocabulary=new_vocabulary)\n",
    "tfidf_reviews_short = tfidf_vect_short.fit_transform(df_reviews[\"review\"])\n",
    "\n",
    "# data and classes\n",
    "X_train_short = tfidf_reviews_short\n",
    "y_train_short = df_reviews[\"sentiment\"].values \n",
    "\n",
    "#create TfidVectorizer object using exctTerms to extract tokens\n",
    "tfidf_vect = TfidfVectorizer(tokenizer=extracTerms, vocabulary=new_vocabulary)\n",
    "\n",
    "#create the logistic regression model\n",
    "lr_model = LogisticRegression(C=1)\n",
    "\n",
    "#Define el pipeline \n",
    "reviews_pipe = Pipeline([\n",
    "    (\"cleaner\",Cleaner()),\n",
    "    (\"tfidf\", tfidf_vect),\n",
    "    (\"clf\", lr_model)\n",
    "    ])\n",
    "\n",
    "# We train the model \n",
    "reviews_pipe.fit(df_reviews[\"review\"], df_reviews[\"sentiment\"])\n",
    "\n",
    "print(\"Training rate (training):  %0.3f\" % reviews_pipe.score(df_reviews[\"review\"],df_reviews[\"sentiment\"]))\n",
    "\n",
    "print(\"Hit rate (test) %0.3f\" % reviews_pipe.score(df_new_reviews[\"review\"],df_new_reviews[\"sentiment\"]))"
   ]
  },
  {
   "cell_type": "markdown",
   "metadata": {},
   "source": [
    "## Pipeline + gridsearch"
   ]
  },
  {
   "cell_type": "code",
   "execution_count": 37,
   "metadata": {},
   "outputs": [
    {
     "name": "stdout",
     "output_type": "stream",
     "text": [
      "Fitting 4 folds for each of 18 candidates, totalling 72 fits\n",
      "Better parameter settings: \n",
      "\tclf__C: 1\n",
      "\ttfidf__max_features: None\n",
      "\ttfidf__ngram_range: (1, 1)\n"
     ]
    }
   ],
   "source": [
    "from sklearn.pipeline import Pipeline\n",
    "\n",
    "#create TfidVectorizer object using exctTerms to extract tokens\n",
    "tfidf_vect = TfidfVectorizer(tokenizer=extracTerms, vocabulary=new_vocabulary)\n",
    "\n",
    "#create the logistic regression model\n",
    "lr_model = LogisticRegression(C=1)\n",
    "\n",
    "#Define the pipeline \n",
    "reviews_pipe = Pipeline([\n",
    "    (\"cleaner\",Cleaner()),\n",
    "    (\"tfidf\", tfidf_vect),\n",
    "    (\"clf\", lr_model)\n",
    "    ])\n",
    "\n",
    "#define parameters\n",
    "parameters = {\n",
    "    \"tfidf__max_features\":[1000,5000,10000],\n",
    "    \"tfidf__ngram_range\":((1,1), (1,2)), #unigramas o bigramas\n",
    "    \"clf__C\":[0.1,1,10]\n",
    "    \n",
    "}\n",
    "\n",
    "grid_search = GridSearchCV(reviews_pipe, parameters, cv=4, n_jobs=-1, verbose=1)\n",
    "\n",
    "# We train the model \n",
    "grid_search.fit(df_reviews[\"review\"], df_reviews[\"sentiment\"])\n",
    "\n",
    "print(\"Better parameter settings: \")\n",
    "best_parameters = reviews_pipe.get_params()\n",
    "for param in sorted(parameters.keys()):\n",
    "    print(\"\\t%s: %r\" % (param, best_parameters[param]))\n",
    "\n",
    "# Stores the trained pipeline \n",
    "reviews_pipe = grid_search.best_estimator_"
   ]
  }
 ],
 "metadata": {
  "kernelspec": {
   "display_name": "Python 3",
   "language": "python",
   "name": "python3"
  },
  "language_info": {
   "codemirror_mode": {
    "name": "ipython",
    "version": 3
   },
   "file_extension": ".py",
   "mimetype": "text/x-python",
   "name": "python",
   "nbconvert_exporter": "python",
   "pygments_lexer": "ipython3",
   "version": "3.10.9"
  }
 },
 "nbformat": 4,
 "nbformat_minor": 2
}
